{
 "cells": [
  {
   "cell_type": "markdown",
   "metadata": {},
   "source": [
    "<center>\n",
    "<img src=\"logo.png\" height=\"900\"> \n",
    "</center>\n",
    "\n",
    "\n",
    "#  Точные доверительные интервалы \n",
    "\n",
    "Будем работать с данными по стоимости квартир в москве из таблички `flat.csv`.\n"
   ]
  },
  {
   "cell_type": "code",
   "execution_count": 1,
   "metadata": {},
   "outputs": [],
   "source": [
    "import numpy as np\n",
    "import pandas as pd\n",
    "from scipy import stats\n",
    "import seaborn as sns\n",
    "import matplotlib.pyplot as plt\n",
    "\n",
    "plt.style.use('ggplot')\n",
    "%matplotlib inline"
   ]
  },
  {
   "cell_type": "code",
   "execution_count": 2,
   "metadata": {},
   "outputs": [],
   "source": [
    "def norm_conf_int(alpha, mean_hat, std_hat, margin=5):\n",
    "    \"\"\"\n",
    "        Строит 95% асимптотически-нормальный доверительный интервал\n",
    "    \"\"\"\n",
    "    \n",
    "    plt.figure(figsize=(10,5))\n",
    "    xs = np.linspace(mean_hat - margin, mean_hat + margin)\n",
    "    pdf = stats.norm(mean_hat, std_hat).pdf(xs)\n",
    "\n",
    "    plt.plot(xs, pdf)\n",
    "    plt.ylabel('$f(x)$', fontsize=18)\n",
    "    plt.xlabel('$x$', fontsize=18)\n",
    "\n",
    "    left, right = stats.norm.interval(1 - alpha, loc=mean_hat, scale=std_hat)\n",
    "    \n",
    "    for i in [left, right]: \n",
    "        y_max = plt.ylim()[1]\n",
    "        plt.axvline(i, color=\"blue\", linestyle='dashed', lw=2)\n",
    "        \n",
    "        if i == left:\n",
    "            xq = np.linspace(mean_hat - margin, left)\n",
    "        else:\n",
    "            xq = np.linspace(right, mean_hat + margin)\n",
    "        \n",
    "        text_margin = 0.05\n",
    "        plt.text(i + text_margin, 0.8*y_max, round(i, 2), color=\"blue\", fontsize=14)\n",
    "        yq = stats.norm(mean_hat, std_hat).pdf(xq)\n",
    "        plt.fill_between(xq, 0, yq, color='blue', alpha=0.3)\n",
    "\n",
    "    return left, right"
   ]
  },
  {
   "cell_type": "markdown",
   "metadata": {},
   "source": [
    "__Описание переменных:__\n",
    "\n",
    "```\n",
    "n – номер квартиры по порядку\n",
    "price – цена квартиры в $1000\n",
    "totsp – общая площадь квартиры, кв.м.\n",
    "livesp жилая площадь квартиры, кв.м.\n",
    "kitsp – площадь кухни, кв.м.\n",
    "dist – расстояние от центра в км.\n",
    "metrdist – расстояние до метро в минутах\n",
    "walk – 1 – пешком от метро, 0 – на транспорте\n",
    "brick 1 – кирпичный, монолит ж/б, 0 – другой\n",
    "floor 1 – этаж кроме первого и последнего, 0 – иначе.\n",
    "code – число от 1 до 8, при помощи которого мы группируем наблюдения по\n",
    "подвыборкам:\n",
    "1. Наблюдения сгруппированы на севере, вокруг Калужско-Рижской линии\n",
    "метрополитена\n",
    "2. Север, вокруг Серпуховско-Тимирязевской линии метрополитена\n",
    "3. Северо-запад, вокруг Замоскворецкой линии метрополитена\n",
    "4. Северо-запад, вокруг Таганско-Краснопресненской линии метрополитена\n",
    "5. Юго-восток, вокруг Люблинской линии метрополитена\n",
    "6. Юго-восток, вокруг Таганско-Краснопресненской линии метрополитена\n",
    "7. Восток, вокруг Калиниской линии метрополитена\n",
    "8. Восток, вокруг Арбатско-Покровской линии метрополитена\n",
    "```\n"
   ]
  },
  {
   "cell_type": "code",
   "execution_count": 3,
   "metadata": {},
   "outputs": [
    {
     "name": "stdout",
     "output_type": "stream",
     "text": [
      "(2040, 11)\n"
     ]
    },
    {
     "data": {
      "text/html": [
       "<div>\n",
       "<style scoped>\n",
       "    .dataframe tbody tr th:only-of-type {\n",
       "        vertical-align: middle;\n",
       "    }\n",
       "\n",
       "    .dataframe tbody tr th {\n",
       "        vertical-align: top;\n",
       "    }\n",
       "\n",
       "    .dataframe thead th {\n",
       "        text-align: right;\n",
       "    }\n",
       "</style>\n",
       "<table border=\"1\" class=\"dataframe\">\n",
       "  <thead>\n",
       "    <tr style=\"text-align: right;\">\n",
       "      <th></th>\n",
       "      <th>n</th>\n",
       "      <th>price</th>\n",
       "      <th>totsp</th>\n",
       "      <th>livesp</th>\n",
       "      <th>kitsp</th>\n",
       "      <th>dist</th>\n",
       "      <th>metrdist</th>\n",
       "      <th>walk</th>\n",
       "      <th>brick</th>\n",
       "      <th>floor</th>\n",
       "      <th>code</th>\n",
       "    </tr>\n",
       "  </thead>\n",
       "  <tbody>\n",
       "    <tr>\n",
       "      <th>0</th>\n",
       "      <td>1</td>\n",
       "      <td>81</td>\n",
       "      <td>58</td>\n",
       "      <td>40</td>\n",
       "      <td>6.0</td>\n",
       "      <td>12.5</td>\n",
       "      <td>7</td>\n",
       "      <td>1</td>\n",
       "      <td>1</td>\n",
       "      <td>1</td>\n",
       "      <td>3</td>\n",
       "    </tr>\n",
       "    <tr>\n",
       "      <th>1</th>\n",
       "      <td>2</td>\n",
       "      <td>75</td>\n",
       "      <td>44</td>\n",
       "      <td>28</td>\n",
       "      <td>6.0</td>\n",
       "      <td>13.5</td>\n",
       "      <td>7</td>\n",
       "      <td>1</td>\n",
       "      <td>0</td>\n",
       "      <td>1</td>\n",
       "      <td>6</td>\n",
       "    </tr>\n",
       "    <tr>\n",
       "      <th>2</th>\n",
       "      <td>3</td>\n",
       "      <td>128</td>\n",
       "      <td>70</td>\n",
       "      <td>42</td>\n",
       "      <td>6.0</td>\n",
       "      <td>14.5</td>\n",
       "      <td>3</td>\n",
       "      <td>1</td>\n",
       "      <td>1</td>\n",
       "      <td>1</td>\n",
       "      <td>3</td>\n",
       "    </tr>\n",
       "    <tr>\n",
       "      <th>3</th>\n",
       "      <td>4</td>\n",
       "      <td>95</td>\n",
       "      <td>61</td>\n",
       "      <td>37</td>\n",
       "      <td>6.0</td>\n",
       "      <td>13.5</td>\n",
       "      <td>7</td>\n",
       "      <td>1</td>\n",
       "      <td>0</td>\n",
       "      <td>1</td>\n",
       "      <td>1</td>\n",
       "    </tr>\n",
       "    <tr>\n",
       "      <th>4</th>\n",
       "      <td>5</td>\n",
       "      <td>330</td>\n",
       "      <td>104</td>\n",
       "      <td>60</td>\n",
       "      <td>11.0</td>\n",
       "      <td>10.5</td>\n",
       "      <td>7</td>\n",
       "      <td>0</td>\n",
       "      <td>1</td>\n",
       "      <td>1</td>\n",
       "      <td>3</td>\n",
       "    </tr>\n",
       "  </tbody>\n",
       "</table>\n",
       "</div>"
      ],
      "text/plain": [
       "   n  price  totsp  livesp  kitsp  dist  metrdist  walk  brick  floor  code\n",
       "0  1     81     58      40    6.0  12.5         7     1      1      1     3\n",
       "1  2     75     44      28    6.0  13.5         7     1      0      1     6\n",
       "2  3    128     70      42    6.0  14.5         3     1      1      1     3\n",
       "3  4     95     61      37    6.0  13.5         7     1      0      1     1\n",
       "4  5    330    104      60   11.0  10.5         7     0      1      1     3"
      ]
     },
     "execution_count": 3,
     "metadata": {},
     "output_type": "execute_result"
    }
   ],
   "source": [
    "df = pd.read_csv('flat.csv', sep='\\t')\n",
    "print(df.shape)\n",
    "df.head()"
   ]
  },
  {
   "cell_type": "markdown",
   "metadata": {},
   "source": [
    "# 1. Доверительные интервалы для среднего"
   ]
  },
  {
   "cell_type": "markdown",
   "metadata": {},
   "source": [
    "Построим $95\\%$ асимптотический доверительный интервал для средней стоимости квартиры. Построим точный доверительный интервал для средней стоимости квартиры. Какой из них оказался уже? Почему? \n",
    "\n",
    "__Асимптотический доверительный интервал:__\n",
    "\n",
    "$$\n",
    "\\bar x \\pm z_{1 - \\frac{\\alpha}{2}} \\cdot \\sqrt{\\frac{\\hat \sigma^2}{n}}.\n",
    "$$\n",
    "\n",
    "> __Предположения:__ \n",
    "В выборке нет аномалий, собиралась независимо, тогда среднее асимптотически нормально распределено (ЦПТ) "
   ]
  },
  {
   "cell_type": "code",
   "execution_count": 4,
   "metadata": {},
   "outputs": [
    {
     "name": "stdout",
     "output_type": "stream",
     "text": [
      "Доверительный интервал [125.2; 129.7] ширины 4.502\n"
     ]
    }
   ],
   "source": [
    "# вручную \n",
    "norm_rv = stats.norm()\n",
    "\n",
    "alpha = 0.05\n",
    "z_crit = norm_rv.ppf(1 - alpha/2)\n",
    "\n",
    "mu_hat = df.price.mean() \n",
    "var_hat = df.price.var(ddof=1)\n",
    "n = df.price.count()\n",
    "\n",
    "left = mu_hat - z_crit*np.sqrt(var_hat/n)\n",
    "right = mu_hat + z_crit*np.sqrt(var_hat/n)\n",
    "\n",
    "print(\"Доверительный интервал [{:.4}; {:.4}] ширины {:.4}\".format(left, right, right - left))"
   ]
  },
  {
   "cell_type": "code",
   "execution_count": 5,
   "metadata": {},
   "outputs": [
    {
     "data": {
      "text/plain": [
       "(125.24534794254012, 129.74778931236185)"
      ]
     },
     "execution_count": 5,
     "metadata": {},
     "output_type": "execute_result"
    }
   ],
   "source": [
    "mu_hat = df.price.mean() \n",
    "sd_hat = df.price.std(ddof=1)/np.sqrt(n)\n",
    "\n",
    "stats.norm.interval(0.95, loc=mu_hat, scale=sd_hat)"
   ]
  },
  {
   "cell_type": "code",
   "execution_count": 6,
   "metadata": {},
   "outputs": [
    {
     "data": {
      "text/plain": [
       "(125.24534794254012, 129.74778931236185)"
      ]
     },
     "execution_count": 6,
     "metadata": {},
     "output_type": "execute_result"
    },
    {
     "data": {
      "image/png": "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\n",
      "text/plain": [
       "<Figure size 720x360 with 1 Axes>"
      ]
     },
     "metadata": {
      "needs_background": "light"
     },
     "output_type": "display_data"
    }
   ],
   "source": [
    "alpha = 0.05\n",
    "mu_hat = df.price.mean() \n",
    "sd_hat = df.price.std(ddof=1)/np.sqrt(n)\n",
    "\n",
    "norm_conf_int(alpha, mu_hat, sd_hat, margin=5)"
   ]
  },
  {
   "cell_type": "markdown",
   "metadata": {},
   "source": [
    "__Точный доверительный интервал:__\n",
    "\n",
    "$$\n",
    "\\bar x \\pm t_{1 - \\frac{\\alpha}{2}} \\cdot \\sqrt{\\frac{\\hat \sigma^2}{n}}.\n",
    "$$\n",
    "\n",
    "> __Предположения:__ \n",
    "Выборка пришла из нормального распределения, дисперсия неизвестна"
   ]
  },
  {
   "cell_type": "code",
   "execution_count": 7,
   "metadata": {},
   "outputs": [
    {
     "name": "stdout",
     "output_type": "stream",
     "text": [
      "Доверительный интервал [125.2; 129.7] ширины 4.505\n"
     ]
    }
   ],
   "source": [
    "# вручную \n",
    "n = df.price.count()\n",
    "t_rv = stats.t(n - 1)\n",
    "\n",
    "alpha = 0.05\n",
    "t_crit = t_rv.ppf(1 - alpha/2)\n",
    "\n",
    "mu_hat = df.price.mean() \n",
    "var_hat = df.price.var(ddof=1)\n",
    "\n",
    "\n",
    "left = mu_hat - t_crit*np.sqrt(var_hat/n)\n",
    "right = mu_hat + t_crit*np.sqrt(var_hat/n)\n",
    "\n",
    "print(\"Доверительный интервал [{:.4}; {:.4}] ширины {:.4}\".format(left, right, right - left))"
   ]
  },
  {
   "cell_type": "code",
   "execution_count": 8,
   "metadata": {},
   "outputs": [
    {
     "data": {
      "text/plain": [
       "2040"
      ]
     },
     "execution_count": 8,
     "metadata": {},
     "output_type": "execute_result"
    }
   ],
   "source": [
    "n"
   ]
  },
  {
   "cell_type": "code",
   "execution_count": 9,
   "metadata": {},
   "outputs": [],
   "source": [
    "# Оказался немного шире, но похож, так как:\n",
    "# t(n) => N(0,1) при n -> inf "
   ]
  },
  {
   "cell_type": "code",
   "execution_count": 10,
   "metadata": {},
   "outputs": [
    {
     "name": "stdout",
     "output_type": "stream",
     "text": [
      "Доверительный интервал [125.2; 129.7] ширины 4.505\n"
     ]
    }
   ],
   "source": [
    "# пакетом \n",
    "n = df.price.count()\n",
    "mu_hat = df.price.mean()\n",
    "sd_hat = df.price.std(ddof=1) / np.sqrt(n)\n",
    "\n",
    "# тут 0.95 это 1 - alpha\n",
    "left, right = stats.t.interval(0.95, df=(n-1), loc=mu_hat, scale=sd_hat)\n",
    "print(\"Доверительный интервал [{:.4}; {:.4}] ширины {:.4}\".format(left, right, right - left))\n"
   ]
  },
  {
   "cell_type": "markdown",
   "metadata": {},
   "source": [
    "> Видим, что интервалы не сильно отличаются друг от друга, из-за того, что у нас в выборке много наблюдений. При большом числе степеней свободы распределение Стьюдента похоже на нормальное. Тем не менее даже при большом количестве наблюдений точный доверительный интервал оказывается немного шире. "
   ]
  },
  {
   "cell_type": "markdown",
   "metadata": {},
   "source": [
    "__Построим $99\\%$ точные доверительные интервалы для всех районов. В какие из них попало общее среднее? Построим красивую визулизацию.__"
   ]
  },
  {
   "cell_type": "code",
   "execution_count": 11,
   "metadata": {},
   "outputs": [
    {
     "data": {
      "text/html": [
       "<div>\n",
       "<style scoped>\n",
       "    .dataframe tbody tr th:only-of-type {\n",
       "        vertical-align: middle;\n",
       "    }\n",
       "\n",
       "    .dataframe tbody tr th {\n",
       "        vertical-align: top;\n",
       "    }\n",
       "\n",
       "    .dataframe thead th {\n",
       "        text-align: right;\n",
       "    }\n",
       "</style>\n",
       "<table border=\"1\" class=\"dataframe\">\n",
       "  <thead>\n",
       "    <tr style=\"text-align: right;\">\n",
       "      <th></th>\n",
       "      <th>n</th>\n",
       "      <th>price</th>\n",
       "      <th>totsp</th>\n",
       "      <th>livesp</th>\n",
       "      <th>kitsp</th>\n",
       "      <th>dist</th>\n",
       "      <th>metrdist</th>\n",
       "      <th>walk</th>\n",
       "      <th>brick</th>\n",
       "      <th>floor</th>\n",
       "      <th>code</th>\n",
       "    </tr>\n",
       "  </thead>\n",
       "  <tbody>\n",
       "    <tr>\n",
       "      <th>0</th>\n",
       "      <td>1</td>\n",
       "      <td>81</td>\n",
       "      <td>58</td>\n",
       "      <td>40</td>\n",
       "      <td>6.0</td>\n",
       "      <td>12.5</td>\n",
       "      <td>7</td>\n",
       "      <td>1</td>\n",
       "      <td>1</td>\n",
       "      <td>1</td>\n",
       "      <td>3</td>\n",
       "    </tr>\n",
       "    <tr>\n",
       "      <th>1</th>\n",
       "      <td>2</td>\n",
       "      <td>75</td>\n",
       "      <td>44</td>\n",
       "      <td>28</td>\n",
       "      <td>6.0</td>\n",
       "      <td>13.5</td>\n",
       "      <td>7</td>\n",
       "      <td>1</td>\n",
       "      <td>0</td>\n",
       "      <td>1</td>\n",
       "      <td>6</td>\n",
       "    </tr>\n",
       "    <tr>\n",
       "      <th>2</th>\n",
       "      <td>3</td>\n",
       "      <td>128</td>\n",
       "      <td>70</td>\n",
       "      <td>42</td>\n",
       "      <td>6.0</td>\n",
       "      <td>14.5</td>\n",
       "      <td>3</td>\n",
       "      <td>1</td>\n",
       "      <td>1</td>\n",
       "      <td>1</td>\n",
       "      <td>3</td>\n",
       "    </tr>\n",
       "    <tr>\n",
       "      <th>3</th>\n",
       "      <td>4</td>\n",
       "      <td>95</td>\n",
       "      <td>61</td>\n",
       "      <td>37</td>\n",
       "      <td>6.0</td>\n",
       "      <td>13.5</td>\n",
       "      <td>7</td>\n",
       "      <td>1</td>\n",
       "      <td>0</td>\n",
       "      <td>1</td>\n",
       "      <td>1</td>\n",
       "    </tr>\n",
       "    <tr>\n",
       "      <th>4</th>\n",
       "      <td>5</td>\n",
       "      <td>330</td>\n",
       "      <td>104</td>\n",
       "      <td>60</td>\n",
       "      <td>11.0</td>\n",
       "      <td>10.5</td>\n",
       "      <td>7</td>\n",
       "      <td>0</td>\n",
       "      <td>1</td>\n",
       "      <td>1</td>\n",
       "      <td>3</td>\n",
       "    </tr>\n",
       "  </tbody>\n",
       "</table>\n",
       "</div>"
      ],
      "text/plain": [
       "   n  price  totsp  livesp  kitsp  dist  metrdist  walk  brick  floor  code\n",
       "0  1     81     58      40    6.0  12.5         7     1      1      1     3\n",
       "1  2     75     44      28    6.0  13.5         7     1      0      1     6\n",
       "2  3    128     70      42    6.0  14.5         3     1      1      1     3\n",
       "3  4     95     61      37    6.0  13.5         7     1      0      1     1\n",
       "4  5    330    104      60   11.0  10.5         7     0      1      1     3"
      ]
     },
     "execution_count": 11,
     "metadata": {},
     "output_type": "execute_result"
    }
   ],
   "source": [
    "df.head()"
   ]
  },
  {
   "cell_type": "code",
   "execution_count": 12,
   "metadata": {},
   "outputs": [
    {
     "data": {
      "text/html": [
       "<div>\n",
       "<style scoped>\n",
       "    .dataframe tbody tr th:only-of-type {\n",
       "        vertical-align: middle;\n",
       "    }\n",
       "\n",
       "    .dataframe tbody tr th {\n",
       "        vertical-align: top;\n",
       "    }\n",
       "\n",
       "    .dataframe thead th {\n",
       "        text-align: right;\n",
       "    }\n",
       "</style>\n",
       "<table border=\"1\" class=\"dataframe\">\n",
       "  <thead>\n",
       "    <tr style=\"text-align: right;\">\n",
       "      <th></th>\n",
       "      <th>mean</th>\n",
       "      <th>std</th>\n",
       "      <th>count</th>\n",
       "    </tr>\n",
       "    <tr>\n",
       "      <th>code</th>\n",
       "      <th></th>\n",
       "      <th></th>\n",
       "      <th></th>\n",
       "    </tr>\n",
       "  </thead>\n",
       "  <tbody>\n",
       "    <tr>\n",
       "      <th>1</th>\n",
       "      <td>134.411765</td>\n",
       "      <td>49.619507</td>\n",
       "      <td>272</td>\n",
       "    </tr>\n",
       "    <tr>\n",
       "      <th>2</th>\n",
       "      <td>110.316279</td>\n",
       "      <td>29.518448</td>\n",
       "      <td>215</td>\n",
       "    </tr>\n",
       "    <tr>\n",
       "      <th>3</th>\n",
       "      <td>148.246377</td>\n",
       "      <td>70.573565</td>\n",
       "      <td>345</td>\n",
       "    </tr>\n",
       "    <tr>\n",
       "      <th>4</th>\n",
       "      <td>148.693780</td>\n",
       "      <td>73.656832</td>\n",
       "      <td>209</td>\n",
       "    </tr>\n",
       "    <tr>\n",
       "      <th>5</th>\n",
       "      <td>115.779762</td>\n",
       "      <td>31.507483</td>\n",
       "      <td>336</td>\n",
       "    </tr>\n",
       "    <tr>\n",
       "      <th>6</th>\n",
       "      <td>109.964981</td>\n",
       "      <td>32.976595</td>\n",
       "      <td>257</td>\n",
       "    </tr>\n",
       "    <tr>\n",
       "      <th>7</th>\n",
       "      <td>114.230088</td>\n",
       "      <td>33.897495</td>\n",
       "      <td>226</td>\n",
       "    </tr>\n",
       "    <tr>\n",
       "      <th>8</th>\n",
       "      <td>136.744444</td>\n",
       "      <td>48.639263</td>\n",
       "      <td>180</td>\n",
       "    </tr>\n",
       "  </tbody>\n",
       "</table>\n",
       "</div>"
      ],
      "text/plain": [
       "            mean        std  count\n",
       "code                              \n",
       "1     134.411765  49.619507    272\n",
       "2     110.316279  29.518448    215\n",
       "3     148.246377  70.573565    345\n",
       "4     148.693780  73.656832    209\n",
       "5     115.779762  31.507483    336\n",
       "6     109.964981  32.976595    257\n",
       "7     114.230088  33.897495    226\n",
       "8     136.744444  48.639263    180"
      ]
     },
     "execution_count": 12,
     "metadata": {},
     "output_type": "execute_result"
    }
   ],
   "source": [
    "df_agg = df.groupby('code')['price'].agg(['mean', 'std', 'count'])\n",
    "df_agg"
   ]
  },
  {
   "cell_type": "code",
   "execution_count": 13,
   "metadata": {},
   "outputs": [
    {
     "data": {
      "text/html": [
       "<div>\n",
       "<style scoped>\n",
       "    .dataframe tbody tr th:only-of-type {\n",
       "        vertical-align: middle;\n",
       "    }\n",
       "\n",
       "    .dataframe tbody tr th {\n",
       "        vertical-align: top;\n",
       "    }\n",
       "\n",
       "    .dataframe thead th {\n",
       "        text-align: right;\n",
       "    }\n",
       "</style>\n",
       "<table border=\"1\" class=\"dataframe\">\n",
       "  <thead>\n",
       "    <tr style=\"text-align: right;\">\n",
       "      <th></th>\n",
       "      <th>mean</th>\n",
       "      <th>std</th>\n",
       "      <th>count</th>\n",
       "      <th>t_crit</th>\n",
       "      <th>step</th>\n",
       "    </tr>\n",
       "    <tr>\n",
       "      <th>code</th>\n",
       "      <th></th>\n",
       "      <th></th>\n",
       "      <th></th>\n",
       "      <th></th>\n",
       "      <th></th>\n",
       "    </tr>\n",
       "  </thead>\n",
       "  <tbody>\n",
       "    <tr>\n",
       "      <th>1</th>\n",
       "      <td>134.411765</td>\n",
       "      <td>49.619507</td>\n",
       "      <td>272</td>\n",
       "      <td>2.594092</td>\n",
       "      <td>7.804650</td>\n",
       "    </tr>\n",
       "    <tr>\n",
       "      <th>2</th>\n",
       "      <td>110.316279</td>\n",
       "      <td>29.518448</td>\n",
       "      <td>215</td>\n",
       "      <td>2.598998</td>\n",
       "      <td>5.232150</td>\n",
       "    </tr>\n",
       "    <tr>\n",
       "      <th>3</th>\n",
       "      <td>148.246377</td>\n",
       "      <td>70.573565</td>\n",
       "      <td>345</td>\n",
       "      <td>2.590197</td>\n",
       "      <td>9.841589</td>\n",
       "    </tr>\n",
       "    <tr>\n",
       "      <th>4</th>\n",
       "      <td>148.693780</td>\n",
       "      <td>73.656832</td>\n",
       "      <td>209</td>\n",
       "      <td>2.599672</td>\n",
       "      <td>13.245198</td>\n",
       "    </tr>\n",
       "    <tr>\n",
       "      <th>5</th>\n",
       "      <td>115.779762</td>\n",
       "      <td>31.507483</td>\n",
       "      <td>336</td>\n",
       "      <td>2.590585</td>\n",
       "      <td>4.452889</td>\n",
       "    </tr>\n",
       "    <tr>\n",
       "      <th>6</th>\n",
       "      <td>109.964981</td>\n",
       "      <td>32.976595</td>\n",
       "      <td>257</td>\n",
       "      <td>2.595170</td>\n",
       "      <td>5.338326</td>\n",
       "    </tr>\n",
       "    <tr>\n",
       "      <th>7</th>\n",
       "      <td>114.230088</td>\n",
       "      <td>33.897495</td>\n",
       "      <td>226</td>\n",
       "      <td>2.597856</td>\n",
       "      <td>5.857718</td>\n",
       "    </tr>\n",
       "    <tr>\n",
       "      <th>8</th>\n",
       "      <td>136.744444</td>\n",
       "      <td>48.639263</td>\n",
       "      <td>180</td>\n",
       "      <td>2.603574</td>\n",
       "      <td>9.438884</td>\n",
       "    </tr>\n",
       "  </tbody>\n",
       "</table>\n",
       "</div>"
      ],
      "text/plain": [
       "            mean        std  count    t_crit       step\n",
       "code                                                   \n",
       "1     134.411765  49.619507    272  2.594092   7.804650\n",
       "2     110.316279  29.518448    215  2.598998   5.232150\n",
       "3     148.246377  70.573565    345  2.590197   9.841589\n",
       "4     148.693780  73.656832    209  2.599672  13.245198\n",
       "5     115.779762  31.507483    336  2.590585   4.452889\n",
       "6     109.964981  32.976595    257  2.595170   5.338326\n",
       "7     114.230088  33.897495    226  2.597856   5.857718\n",
       "8     136.744444  48.639263    180  2.603574   9.438884"
      ]
     },
     "execution_count": 13,
     "metadata": {},
     "output_type": "execute_result"
    }
   ],
   "source": [
    "alpha = 0.01\n",
    "df_agg['t_crit'] = df_agg['count'].apply(lambda w: stats.t(w - 1).ppf(1 - alpha/2))\n",
    "\n",
    "# на сколько отступать вправо и влево от математического ожидания\n",
    "df_agg['step'] =  df_agg['t_crit']  * df_agg['std']/np.sqrt(df_agg['count'])\n",
    "df_agg"
   ]
  },
  {
   "cell_type": "code",
   "execution_count": 14,
   "metadata": {},
   "outputs": [
    {
     "data": {
      "image/png": "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\n",
      "text/plain": [
       "<Figure size 720x360 with 1 Axes>"
      ]
     },
     "metadata": {
      "needs_background": "light"
     },
     "output_type": "display_data"
    }
   ],
   "source": [
    "district = [\n",
    "    'Север, Калужско-Рижская', 'Север, Серпуховско-Тимирязевская', \n",
    "    'Северо-запад, Замоскворецкая', 'Северо-запад, Таганско-Краснопресненская', \n",
    "    'Юго-восток, Люблинская', 'Юго-восток, Таганско-Краснопресненская',\n",
    "    'Восток, Калиниская', 'Восток, Арбатско-Покровская'\n",
    "]\n",
    "\n",
    "center = df_agg['mean'].values\n",
    "step = df_agg['step'].values\n",
    "\n",
    "mu_hat = df.price.mean() # общее среднее \n",
    "\n",
    "plt.figure(figsize=(10,5))\n",
    "\n",
    "plt.errorbar(center, np.arange(center.size),  xerr = step, \n",
    "             capsize=0, fmt=\"o\", color=\"blue\")\n",
    "\n",
    "plt.yticks(np.arange(center.size - 1, -1, -1), district, fontsize=12);\n",
    "plt.axvline(mu_hat, 0, color='grey');"
   ]
  },
  {
   "cell_type": "markdown",
   "metadata": {},
   "source": [
    "__Выводы:__ \n",
    "\n",
    "- В среднем, самая дорогая недвижимость находится на Юго-востоке. Самая дешёвая на Северо-западе. "
   ]
  },
  {
   "cell_type": "markdown",
   "metadata": {},
   "source": [
    "# 2. Доверительный интервал для разности средних"
   ]
  },
  {
   "cell_type": "markdown",
   "metadata": {},
   "source": [
    "Построим $95\\%$ асимптотический доверительный интервал для разницы в средней стоимости квартир в монолитных и панельных домах.\n",
    "\n",
    "$$\n",
    "\\bar x - \\bar y \\pm z_{crit} \\cdot \\sqrt{\\frac{\\hat\\sigma_x^2}{n_x} + \\frac{\\hat\\sigma_y^2}{n_y}}\n",
    "$$"
   ]
  },
  {
   "cell_type": "code",
   "execution_count": 15,
   "metadata": {},
   "outputs": [
    {
     "name": "stdout",
     "output_type": "stream",
     "text": [
      "Доверительный интервал [23.04; 34.81] ширины 11.77\n"
     ]
    }
   ],
   "source": [
    "x = df[df.brick == 1].price.values\n",
    "y = df[df.brick == 0].price.values\n",
    "\n",
    "diff = x.mean() - y.mean() \n",
    "nx,ny = x.size, y.size\n",
    "diff_sd = np.sqrt(x.var(ddof=1)/nx + y.var(ddof=1)/nx)\n",
    "\n",
    "left, right = stats.norm.interval(0.95, loc=diff, scale=diff_sd)\n",
    "print(\"Доверительный интервал [{:.4}; {:.4}] ширины {:.4}\".format(left, right, right - left))"
   ]
  },
  {
   "cell_type": "markdown",
   "metadata": {},
   "source": [
    "Предположим, что дисперсии неизвестны, но равны.\n",
    "\n",
    "$$\n",
    "\\bar x - \\bar y \\pm t_{crit} \\cdot \\sqrt{\\frac{s^2}{n_x} + \\frac{s^2}{n_y}}\n",
    "$$"
   ]
  },
  {
   "cell_type": "code",
   "execution_count": 16,
   "metadata": {},
   "outputs": [
    {
     "name": "stdout",
     "output_type": "stream",
     "text": [
      "Доверительный интервал [24.28; 33.58] ширины 9.297\n"
     ]
    }
   ],
   "source": [
    "diff = x.mean() - y.mean()\n",
    "nx, ny = x.size, y.size\n",
    "\n",
    "s2 = ((nx - 1)*x.var() + (ny - 1)*y.var())/(nx + ny - 2)\n",
    "diff_sd = np.sqrt(s2/nx + s2/ny)\n",
    "\n",
    "left, right = stats.t.interval(0.95, df=(nx + ny - 2), loc=diff, scale=diff_sd)\n",
    "print(\"Доверительный интервал [{:.4}; {:.4}] ширины {:.4}\".format(left, right, right - left))"
   ]
  },
  {
   "cell_type": "code",
   "execution_count": 17,
   "metadata": {},
   "outputs": [
    {
     "data": {
      "text/plain": [
       "(4264.981392232218, 1668.1298841576563)"
      ]
     },
     "execution_count": 17,
     "metadata": {},
     "output_type": "execute_result"
    }
   ],
   "source": [
    "x.var(), y.var()"
   ]
  },
  {
   "cell_type": "markdown",
   "metadata": {},
   "source": [
    "Предположим, что дисперсии неизвестны и не равны. Построим приближённый доверительный интервал (интервал Уэлча)."
   ]
  },
  {
   "cell_type": "code",
   "execution_count": 18,
   "metadata": {
    "scrolled": true
   },
   "outputs": [
    {
     "name": "stdout",
     "output_type": "stream",
     "text": [
      "Число степеней свободы: 911.4012642833161\n",
      "Доверительный интервал [23.49; 34.37] ширины 10.88\n"
     ]
    }
   ],
   "source": [
    "diff = x.mean() - y.mean()\n",
    "nx, ny = x.size, y.size\n",
    "diff_sd = np.sqrt(x.var()/nx + y.var()/ny)\n",
    "\n",
    "u = (x.var() / nx + y.var() / ny) ** 2\n",
    "d = (x.var()**2) / (nx**2 * (nx - 1)) + (y.var()**2)/ (ny**2* (ny - 1))\n",
    "nu =  u/d \n",
    "print(\"Число степеней свободы:\", nu)\n",
    "\n",
    "left, right = stats.t.interval(0.95, df=nu, loc=diff, scale=diff_sd)\n",
    "print(\"Доверительный интервал [{:.4}; {:.4}] ширины {:.4}\".format(left, right, right - left))\n"
   ]
  },
  {
   "cell_type": "code",
   "execution_count": 19,
   "metadata": {},
   "outputs": [
    {
     "data": {
      "text/plain": [
       "(659, 1381)"
      ]
     },
     "execution_count": 19,
     "metadata": {},
     "output_type": "execute_result"
    }
   ],
   "source": [
    "nx, ny"
   ]
  },
  {
   "cell_type": "code",
   "execution_count": 20,
   "metadata": {
    "scrolled": true
   },
   "outputs": [
    {
     "data": {
      "text/plain": [
       "(65.30682500498871, 40.842745796012004)"
      ]
     },
     "execution_count": 20,
     "metadata": {},
     "output_type": "execute_result"
    }
   ],
   "source": [
    "x.std(), y.std()  # Знаки не в ту сторону => при малых выборках не очень верим"
   ]
  },
  {
   "cell_type": "markdown",
   "metadata": {},
   "source": [
    "> Все три доверительных интервала из-за больших объёмов выборки снова оказались похожи. Выборочные дисперсии довольно сильно отличаются друг от друга, из-за этого использование доверительного интервала с предпосылкой о их равенстве некорректно."
   ]
  },
  {
   "cell_type": "markdown",
   "metadata": {},
   "source": [
    "__Выводы:__ \n",
    "\n",
    "- В среднем, на уровне значимости $5\\%$, квартиры в монолитных домах стоят дороже, чем в панельных. Ноль нигде не попадает в доверительный интервал.  "
   ]
  },
  {
   "cell_type": "markdown",
   "metadata": {},
   "source": [
    "# 3. Доверительный интервал для дисперсии"
   ]
  },
  {
   "cell_type": "markdown",
   "metadata": {},
   "source": [
    "Предполагая нормальность распределения цен, построим $95\\%$ доверительный интервал для дисперсии стоимости квартир. \n",
    "\n",
    "$$\n",
    "\\frac{(n - 1) \\cdot s^2}{\\chi_{n-1}^2 \\left(\\frac{\\alpha}{2} \\right)} \\le \\sigma^2 \\le \\frac{(n - 1) \\cdot s^2}{\\chi_{n-1}^2 \\left(1 - \\frac{\\alpha}{2} \\right)}\n",
    "$$\n",
    "\n",
    "\n",
    "> __Предположения:__ \n",
    "Выборка пришла из нормального распределения, математическое ожидание неизвестно, выполняется теорема Фишера\n"
   ]
  },
  {
   "cell_type": "code",
   "execution_count": 21,
   "metadata": {},
   "outputs": [
    {
     "name": "stdout",
     "output_type": "stream",
     "text": [
      "Доверительный интервал [2533.5; 2864.5] ширины 331.01\n"
     ]
    }
   ],
   "source": [
    "alpha = 0.05 \n",
    "\n",
    "n = df.price.count()\n",
    "var_hat = df.price.var(ddof=1)\n",
    "\n",
    "chi_l, chi_u = stats.chi2.ppf([1-alpha/2, alpha/2], df = n - 1)\n",
    "\n",
    "left = (n - 1) * var_hat/chi_l\n",
    "right = (n - 1) * var_hat/chi_u\n",
    "\n",
    "print(\"Доверительный интервал [{:.5}; {:.5}] ширины {:.5}\".format(left, right, right - left))\n"
   ]
  },
  {
   "cell_type": "markdown",
   "metadata": {},
   "source": [
    "Сделаем то же самое, но в разбивке по районам. "
   ]
  },
  {
   "cell_type": "code",
   "execution_count": 22,
   "metadata": {},
   "outputs": [
    {
     "data": {
      "text/html": [
       "<div>\n",
       "<style scoped>\n",
       "    .dataframe tbody tr th:only-of-type {\n",
       "        vertical-align: middle;\n",
       "    }\n",
       "\n",
       "    .dataframe tbody tr th {\n",
       "        vertical-align: top;\n",
       "    }\n",
       "\n",
       "    .dataframe thead th {\n",
       "        text-align: right;\n",
       "    }\n",
       "</style>\n",
       "<table border=\"1\" class=\"dataframe\">\n",
       "  <thead>\n",
       "    <tr style=\"text-align: right;\">\n",
       "      <th></th>\n",
       "      <th>var</th>\n",
       "      <th>count</th>\n",
       "      <th>ch_l</th>\n",
       "      <th>ch_u</th>\n",
       "      <th>left</th>\n",
       "      <th>right</th>\n",
       "    </tr>\n",
       "    <tr>\n",
       "      <th>code</th>\n",
       "      <th></th>\n",
       "      <th></th>\n",
       "      <th></th>\n",
       "      <th></th>\n",
       "      <th></th>\n",
       "      <th></th>\n",
       "    </tr>\n",
       "  </thead>\n",
       "  <tbody>\n",
       "    <tr>\n",
       "      <th>1</th>\n",
       "      <td>2462.095507</td>\n",
       "      <td>272</td>\n",
       "      <td>318.493509</td>\n",
       "      <td>227.293087</td>\n",
       "      <td>2094.949704</td>\n",
       "      <td>2935.539707</td>\n",
       "    </tr>\n",
       "    <tr>\n",
       "      <th>2</th>\n",
       "      <td>871.338752</td>\n",
       "      <td>215</td>\n",
       "      <td>256.407893</td>\n",
       "      <td>175.378164</td>\n",
       "      <td>727.226026</td>\n",
       "      <td>1063.225252</td>\n",
       "    </tr>\n",
       "    <tr>\n",
       "      <th>3</th>\n",
       "      <td>4980.628075</td>\n",
       "      <td>345</td>\n",
       "      <td>397.276692</td>\n",
       "      <td>294.510332</td>\n",
       "      <td>4312.702181</td>\n",
       "      <td>5817.575378</td>\n",
       "    </tr>\n",
       "    <tr>\n",
       "      <th>4</th>\n",
       "      <td>5425.328855</td>\n",
       "      <td>209</td>\n",
       "      <td>249.834911</td>\n",
       "      <td>169.951073</td>\n",
       "      <td>4516.856343</td>\n",
       "      <td>6639.960458</td>\n",
       "    </tr>\n",
       "    <tr>\n",
       "      <th>5</th>\n",
       "      <td>992.721500</td>\n",
       "      <td>336</td>\n",
       "      <td>387.599359</td>\n",
       "      <td>286.187623</td>\n",
       "      <td>858.003747</td>\n",
       "      <td>1162.040827</td>\n",
       "    </tr>\n",
       "    <tr>\n",
       "      <th>6</th>\n",
       "      <td>1087.455800</td>\n",
       "      <td>257</td>\n",
       "      <td>302.211810</td>\n",
       "      <td>213.574668</td>\n",
       "      <td>921.170767</td>\n",
       "      <td>1303.472401</td>\n",
       "    </tr>\n",
       "    <tr>\n",
       "      <th>7</th>\n",
       "      <td>1149.040157</td>\n",
       "      <td>226</td>\n",
       "      <td>268.437839</td>\n",
       "      <td>185.348344</td>\n",
       "      <td>963.105785</td>\n",
       "      <td>1394.854843</td>\n",
       "    </tr>\n",
       "    <tr>\n",
       "      <th>8</th>\n",
       "      <td>2365.777902</td>\n",
       "      <td>180</td>\n",
       "      <td>217.940765</td>\n",
       "      <td>143.844791</td>\n",
       "      <td>1943.070379</td>\n",
       "      <td>2943.966485</td>\n",
       "    </tr>\n",
       "  </tbody>\n",
       "</table>\n",
       "</div>"
      ],
      "text/plain": [
       "              var  count        ch_l        ch_u         left        right\n",
       "code                                                                      \n",
       "1     2462.095507    272  318.493509  227.293087  2094.949704  2935.539707\n",
       "2      871.338752    215  256.407893  175.378164   727.226026  1063.225252\n",
       "3     4980.628075    345  397.276692  294.510332  4312.702181  5817.575378\n",
       "4     5425.328855    209  249.834911  169.951073  4516.856343  6639.960458\n",
       "5      992.721500    336  387.599359  286.187623   858.003747  1162.040827\n",
       "6     1087.455800    257  302.211810  213.574668   921.170767  1303.472401\n",
       "7     1149.040157    226  268.437839  185.348344   963.105785  1394.854843\n",
       "8     2365.777902    180  217.940765  143.844791  1943.070379  2943.966485"
      ]
     },
     "execution_count": 22,
     "metadata": {},
     "output_type": "execute_result"
    }
   ],
   "source": [
    "df_agg = df.groupby('code')['price'].agg(['var', 'count'])\n",
    "\n",
    "alpha = 0.05\n",
    "df_agg['ch_l'] = df_agg['count'].apply(lambda w: stats.chi2.ppf(1-alpha/2, df = w - 1))\n",
    "df_agg['ch_u'] = df_agg['count'].apply(lambda w: stats.chi2.ppf(alpha/2, df = w - 1))\n",
    "\n",
    "df_agg['left'] =  (df_agg['count'] - 1) * df_agg['var']/df_agg['ch_l']\n",
    "df_agg['right'] =  (df_agg['count'] - 1) * df_agg['var']/df_agg['ch_u']\n",
    "\n",
    "df_agg"
   ]
  },
  {
   "cell_type": "code",
   "execution_count": 23,
   "metadata": {},
   "outputs": [
    {
     "data": {
      "image/png": "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\n",
      "text/plain": [
       "<Figure size 720x360 with 1 Axes>"
      ]
     },
     "metadata": {
      "needs_background": "light"
     },
     "output_type": "display_data"
    }
   ],
   "source": [
    "district = [\n",
    "    'Север, Калужско-Рижская', 'Север, Серпуховско-Тимирязевская', \n",
    "    'Северо-запад, Замоскворецкая', 'Северо-запад, Таганско-Краснопресненская', \n",
    "    'Юго-восток, Люблинская', 'Юго-восток, Таганско-Краснопресненская',\n",
    "    'Восток, Калиниская', 'Восток, Арбатско-Покровская'\n",
    "]\n",
    "\n",
    "center = df_agg['var'].values\n",
    "step = np.array([df_agg['var'].values - df_agg['left'].values, \n",
    "                 df_agg['right'].values - df_agg['var'].values])\n",
    "\n",
    "var_hat = df.price.var()\n",
    "\n",
    "plt.figure(figsize=(10,5))\n",
    "\n",
    "plt.errorbar(center, np.arange(center.size),  xerr = step, \n",
    "             capsize=0, fmt=\"o\", color='blue')\n",
    "\n",
    "plt.yticks(np.arange(center.size - 1, -1, -1), district, fontsize=12);\n",
    "plt.axvline(var_hat, 0, color='grey');"
   ]
  },
  {
   "cell_type": "markdown",
   "metadata": {},
   "source": [
    "__Выводы:__ \n",
    "\n",
    "- На Юго-Востоке самый большой разброс в ценах. Как покупатель, я найду здесь более разнообразные предложения. Так происходит из-за того, что с одной стороны районы близки к центру и здесь есть респектабельная недвижимость. С другой стороны, в районах довольно много советской застройки с плохой планировкой и ремонтом. "
   ]
  },
  {
   "cell_type": "markdown",
   "metadata": {},
   "source": [
    "# 4. Доверительный интервал для отношения дисперсий"
   ]
  },
  {
   "cell_type": "markdown",
   "metadata": {},
   "source": [
    "Предполагая нормальность распределения, построим $95\\%$-ый доверительный интервал для отношения дисперсии стоимости квартир в монолитных домах и в панельных домах. \n",
    "\n",
    "\n",
    "$$\n",
    "\\frac{s^2_m}{s^2_n} \\cdot F_{\\frac{\\alpha}{2}}(n,m) \\le \\frac{\\sigma^2_m}{\\sigma^2_n} \\le  \\frac{s^2_m}{s^2_n} \\cdot F_{1 - \\frac{\\alpha}{2}}(n,m)\n",
    "$$"
   ]
  },
  {
   "cell_type": "code",
   "execution_count": 24,
   "metadata": {},
   "outputs": [
    {
     "name": "stdout",
     "output_type": "stream",
     "text": [
      "Доверительный интервал [0.34243; 0.44536] ширины 0.10293\n"
     ]
    }
   ],
   "source": [
    "alpha = 0.05\n",
    "\n",
    "x = df[df.brick == 1].price.values\n",
    "y = df[df.brick == 0].price.values\n",
    "\n",
    "n, m = x.size - 1, y.size - 1\n",
    "sn, sm = x.var(), y.var()\n",
    "\n",
    "left = sm / sn * stats.f(n, m).ppf(alpha/2)\n",
    "right = sm / sn * stats.f(n, m).ppf(1 - alpha/2)\n",
    "\n",
    "print(\"Доверительный интервал [{:.5}; {:.5}] ширины {:.5}\".format(left, right, right - left))"
   ]
  },
  {
   "cell_type": "code",
   "execution_count": 25,
   "metadata": {},
   "outputs": [
    {
     "data": {
      "text/plain": [
       "(65.30682500498871, 40.842745796012004)"
      ]
     },
     "execution_count": 25,
     "metadata": {},
     "output_type": "execute_result"
    }
   ],
   "source": [
    "x.std(), y.std()"
   ]
  },
  {
   "cell_type": "markdown",
   "metadata": {},
   "source": [
    "__Выводы:__ \n",
    "\n",
    "- Единица не попала в доверительный интервал. Дисперсии в ценах на монолитное жильё и на панельное различаются. Цены на монолитное жильё обладают более высокой дисперсией. "
   ]
  },
  {
   "cell_type": "markdown",
   "metadata": {},
   "source": [
    "## А можно ли было пользоваться нормальным распределением? \n",
    "\n",
    "Распределение цен выглядит не очень нормальным. "
   ]
  },
  {
   "cell_type": "code",
   "execution_count": 26,
   "metadata": {
    "scrolled": true
   },
   "outputs": [
    {
     "data": {
      "image/png": "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\n",
      "text/plain": [
       "<Figure size 432x288 with 1 Axes>"
      ]
     },
     "metadata": {
      "needs_background": "light"
     },
     "output_type": "display_data"
    }
   ],
   "source": [
    "df.price.hist(bins=50,density=True);"
   ]
  },
  {
   "cell_type": "markdown",
   "metadata": {},
   "source": [
    "Распределение логарифмов цен оказывается более похожим на нормальное."
   ]
  },
  {
   "cell_type": "code",
   "execution_count": 27,
   "metadata": {},
   "outputs": [
    {
     "data": {
      "image/png": "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\n",
      "text/plain": [
       "<Figure size 432x288 with 1 Axes>"
      ]
     },
     "metadata": {
      "needs_background": "light"
     },
     "output_type": "display_data"
    }
   ],
   "source": [
    "df.price.apply(np.log).hist(bins=50, density=True);\n",
    "\n",
    "x = df.price.apply(np.log).values\n",
    "\n",
    "xs = np.linspace(3.5, 7, 300)\n",
    "ys = stats.norm(loc=np.mean(x), scale=np.std(x, ddof=1)).pdf(xs)\n",
    "plt.plot(xs, ys, color=\"black\");"
   ]
  },
  {
   "cell_type": "markdown",
   "metadata": {},
   "source": [
    "Можно формально проверить гипотезу о том, имеет ли какая-то выборка нормальное распределение с помошью теста Колмогорова-Смирнова. О нём мы подробнее поговорим в будущем, а сейчас просто воспользуемся. "
   ]
  },
  {
   "cell_type": "code",
   "execution_count": 28,
   "metadata": {},
   "outputs": [
    {
     "data": {
      "text/plain": [
       "KstestResult(statistic=0.1508501598050489, pvalue=5.415515510735646e-41)"
      ]
     },
     "execution_count": 28,
     "metadata": {},
     "output_type": "execute_result"
    }
   ],
   "source": [
    "stats.kstest(df.price, 'norm', args=(df.price.mean(), df.price.std(ddof=1)))"
   ]
  },
  {
   "cell_type": "code",
   "execution_count": 29,
   "metadata": {},
   "outputs": [
    {
     "data": {
      "text/plain": [
       "KstestResult(statistic=0.07697286130504083, pvalue=5.856877429594e-11)"
      ]
     },
     "execution_count": 29,
     "metadata": {},
     "output_type": "execute_result"
    }
   ],
   "source": [
    "stats.kstest(x, 'norm', args=(np.mean(x), np.std(x, ddof=1)))"
   ]
  },
  {
   "cell_type": "markdown",
   "metadata": {},
   "source": [
    "В обоих ситуациях `pvalue` очень низкое, это говорит о том, что выборка не распределена нормально."
   ]
  },
  {
   "cell_type": "markdown",
   "metadata": {},
   "source": [
    "<img src=\"https://raw.githubusercontent.com/FUlyankin/r_probability/master/end_seminars/sem_5/pEbNtDxzx0Q.jpg\" height=\"500\" width=\"500\"> "
   ]
  },
  {
   "cell_type": "markdown",
   "metadata": {},
   "source": [
    " "
   ]
  }
 ],
 "metadata": {
  "kernelspec": {
   "display_name": "Python 3",
   "language": "python",
   "name": "python3"
  },
  "language_info": {
   "codemirror_mode": {
    "name": "ipython",
    "version": 3
   },
   "file_extension": ".py",
   "mimetype": "text/x-python",
   "name": "python",
   "nbconvert_exporter": "python",
   "pygments_lexer": "ipython3",
   "version": "3.7.6"
  }
 },
 "nbformat": 4,
 "nbformat_minor": 2
}
